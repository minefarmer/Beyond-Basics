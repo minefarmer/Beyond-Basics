{
 "cells": [
  {
   "cell_type": "code",
   "execution_count": 12,
   "metadata": {
    "collapsed": true
   },
   "outputs": [],
   "source": [
    "import threading\n",
    "import time \n",
    "\n",
    "num_experiments = 10\n",
    "num_threads = 5\n",
    "iterations_in_one_thread = 100"
   ]
  },
  {
   "cell_type": "code",
   "execution_count": 13,
   "metadata": {
    "collapsed": true
   },
   "outputs": [],
   "source": [
    "def f():\n",
    "    global counter\n",
    "\n",
    "    for i in range(iterations_in_one_thread):\n",
    "        v = counter \n",
    "        time.sleep(0.00000000000001)\n",
    "        v += 1 \n",
    "        counter = v"
   ]
  },
  {
   "cell_type": "code",
   "execution_count": 14,
   "metadata": {
    "collapsed": true
   },
   "outputs": [],
   "source": [
    "bad_count = 0"
   ]
  },
  {
   "cell_type": "code",
   "execution_count": 15,
   "metadata": {},
   "outputs": [
    {
     "name": "stdout",
     "output_type": "stream",
     "text": [
      "Should have the value:  500\n",
      "108\n",
      "102\n",
      "106\n",
      "102\n",
      "107\n",
      "108\n",
      "107\n",
      "110\n",
      "106\n",
      "100\n"
     ]
    }
   ],
   "source": [
    "print(\"Should have the value: \", num_threads * iterations_in_one_thread)\n",
    "\n",
    "for x in range(num_experiments):\n",
    "    counter = 0\n",
    "    threads = []\n",
    "    for i in range(num_threads):\n",
    "        t = threading.Thread(target=f)\n",
    "        threads.append(t)\n",
    "        t.start()\n",
    "\n",
    "    for i in threads:  i.join()\n",
    "\n",
    "    if counter != num_threads * iterations_in_one_thread:\n",
    "        bad_count += 1\n",
    "        print(counter)"
   ]
  },
  {
   "cell_type": "code",
   "execution_count": 17,
   "metadata": {},
   "outputs": [
    {
     "name": "stdout",
     "output_type": "stream",
     "text": [
      "Bad count: 1\n",
      "Total runs: 10\n"
     ]
    }
   ],
   "source": [
    "print(\"Bad count:\", bad_count)\n",
    "print(\"Total runs:\", num_experiments)"
   ]
  },
  {
   "cell_type": "code",
   "execution_count": 18,
   "metadata": {
    "collapsed": true
   },
   "outputs": [],
   "source": [
    "lock = threading.Lock() "
   ]
  },
  {
   "cell_type": "code",
   "execution_count": 19,
   "metadata": {
    "collapsed": true
   },
   "outputs": [],
   "source": [
    "def f():\n",
    "    global counter\n",
    "\n",
    "    for i in range(iterations_in_one_thread):\n",
    "        lock.acquire()    # acquire lock \n",
    "        v = counter \n",
    "        time.sleep(0.00000000000001)\n",
    "        v += 1 \n",
    "        counter = v\n",
    "        lock.release()    # release lock "
   ]
  },
  {
   "cell_type": "code",
   "execution_count": 20,
   "metadata": {},
   "outputs": [
    {
     "name": "stdout",
     "output_type": "stream",
     "text": [
      "Should have the value:  500\n"
     ]
    }
   ],
   "source": [
    "print(\"Should have the value: \", num_threads * iterations_in_one_thread)\n",
    "\n",
    "for x in range(num_experiments):\n",
    "    counter = 0\n",
    "    threads = []\n",
    "    bad_count = 0    # reset bad_count \n",
    "    \n",
    "    for i in range(num_threads):\n",
    "        t = threading.Thread(target=f)\n",
    "        threads.append(t)\n",
    "        t.start()\n",
    "\n",
    "    for i in threads:  i.join()\n",
    "\n",
    "    if counter != num_threads * iterations_in_one_thread:\n",
    "        bad_count += 1\n",
    "        print(counter)"
   ]
  },
  {
   "cell_type": "code",
   "execution_count": 21,
   "metadata": {},
   "outputs": [
    {
     "name": "stdout",
     "output_type": "stream",
     "text": [
      "Bad count: 0\n",
      "Total runs: 10\n"
     ]
    }
   ],
   "source": [
    "print(\"Bad count:\", bad_count)\n",
    "print(\"Total runs:\", num_experiments)"
   ]
  },
  {
   "cell_type": "code",
   "execution_count": null,
   "metadata": {
    "collapsed": true
   },
   "outputs": [],
   "source": []
  }
 ],
 "metadata": {
  "kernelspec": {
   "display_name": "Python 3",
   "language": "python",
   "name": "python3"
  },
  "language_info": {
   "codemirror_mode": {
    "name": "ipython",
    "version": 3
   },
   "file_extension": ".py",
   "mimetype": "text/x-python",
   "name": "python",
   "nbconvert_exporter": "python",
   "pygments_lexer": "ipython3",
   "version": "3.6.3"
  }
 },
 "nbformat": 4,
 "nbformat_minor": 2
}
